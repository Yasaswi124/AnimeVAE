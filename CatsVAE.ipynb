{
 "cells": [
  {
   "cell_type": "code",
   "execution_count": null,
   "metadata": {
    "id": "kYmZFSVRg8uY"
   },
   "outputs": [],
   "source": [
    "import tensorflow as tf\n",
    "from tensorflow import keras\n",
    "from tensorflow.keras import layers\n",
    "import matplotlib.pyplot as plt\n",
    "import numpy as np "
   ]
  },
  {
   "cell_type": "code",
   "execution_count": null,
   "metadata": {
    "id": "wqhOC3bSg9Py"
   },
   "outputs": [],
   "source": [
    "images = np.load('/content/drive/MyDrive/Data/cats_images.npy') "
   ]
  },
  {
   "cell_type": "code",
   "execution_count": null,
   "metadata": {
    "id": "h2PtdRqrg9WE"
   },
   "outputs": [],
   "source": [
    "class Sampling(layers.Layer):\n",
    "    \"\"\"Uses (z_mean, z_log_var) to sample z, the vector encoding a digit.\"\"\"\n",
    "\n",
    "    def call(self, inputs):\n",
    "        z_mean, z_log_var = inputs\n",
    "        batch = tf.shape(z_mean)[0]\n",
    "        dim = tf.shape(z_mean)[1]\n",
    "        epsilon = tf.keras.backend.random_normal(shape=(batch, dim))\n",
    "        return z_mean + tf.exp(0.5 * z_log_var) * epsilon"
   ]
  },
  {
   "cell_type": "code",
   "execution_count": null,
   "metadata": {
    "colab": {
     "base_uri": "https://localhost:8080/"
    },
    "id": "pdTQNUShg9Zw",
    "outputId": "e75d005b-c03c-45d2-a83f-2c3a8c340100"
   },
   "outputs": [
    {
     "name": "stdout",
     "output_type": "stream",
     "text": [
      "Model: \"encoder\"\n",
      "__________________________________________________________________________________________________\n",
      "Layer (type)                    Output Shape         Param #     Connected to                     \n",
      "==================================================================================================\n",
      "input_1 (InputLayer)            [(None, 64, 64, 3)]  0                                            \n",
      "__________________________________________________________________________________________________\n",
      "conv2d (Conv2D)                 (None, 32, 32, 32)   6176        input_1[0][0]                    \n",
      "__________________________________________________________________________________________________\n",
      "batch_normalization (BatchNorma (None, 32, 32, 32)   128         conv2d[0][0]                     \n",
      "__________________________________________________________________________________________________\n",
      "conv2d_1 (Conv2D)               (None, 16, 16, 64)   73792       batch_normalization[0][0]        \n",
      "__________________________________________________________________________________________________\n",
      "batch_normalization_1 (BatchNor (None, 16, 16, 64)   256         conv2d_1[0][0]                   \n",
      "__________________________________________________________________________________________________\n",
      "conv2d_2 (Conv2D)               (None, 8, 8, 64)     65600       batch_normalization_1[0][0]      \n",
      "__________________________________________________________________________________________________\n",
      "batch_normalization_2 (BatchNor (None, 8, 8, 64)     256         conv2d_2[0][0]                   \n",
      "__________________________________________________________________________________________________\n",
      "conv2d_3 (Conv2D)               (None, 4, 4, 128)    131200      batch_normalization_2[0][0]      \n",
      "__________________________________________________________________________________________________\n",
      "batch_normalization_3 (BatchNor (None, 4, 4, 128)    512         conv2d_3[0][0]                   \n",
      "__________________________________________________________________________________________________\n",
      "flatten (Flatten)               (None, 2048)         0           batch_normalization_3[0][0]      \n",
      "__________________________________________________________________________________________________\n",
      "dense (Dense)                   (None, 3072)         6294528     flatten[0][0]                    \n",
      "__________________________________________________________________________________________________\n",
      "z_mean (Dense)                  (None, 3072)         9440256     dense[0][0]                      \n",
      "__________________________________________________________________________________________________\n",
      "z_log_var (Dense)               (None, 3072)         9440256     dense[0][0]                      \n",
      "__________________________________________________________________________________________________\n",
      "sampling (Sampling)             (None, 3072)         0           z_mean[0][0]                     \n",
      "                                                                 z_log_var[0][0]                  \n",
      "==================================================================================================\n",
      "Total params: 25,452,960\n",
      "Trainable params: 25,452,384\n",
      "Non-trainable params: 576\n",
      "__________________________________________________________________________________________________\n"
     ]
    }
   ],
   "source": [
    "latent_dim = 3072 \n",
    "\n",
    "encoder_inputs = keras.Input(shape=(64, 64, 3))\n",
    "x = layers.Conv2D(32, 8, activation=\"relu\", strides=2, padding=\"same\")(encoder_inputs)\n",
    "x = layers.BatchNormalization()(x)\n",
    "x = layers.Conv2D(64, 6, activation=\"relu\", strides=2, padding=\"same\")(x)\n",
    "x = layers.BatchNormalization()(x)\n",
    "x = layers.Conv2D(64, 4, activation=\"relu\", strides=2, padding=\"same\")(x)\n",
    "x = layers.BatchNormalization()(x)\n",
    "x = layers.Conv2D(128, 4, activation=\"relu\", strides=2, padding=\"same\")(x)\n",
    "x = layers.BatchNormalization()(x)\n",
    "\n",
    "x = layers.Flatten()(x)\n",
    "x = layers.Dense(latent_dim, activation=\"relu\")(x)\n",
    "z_mean = layers.Dense(latent_dim, name=\"z_mean\")(x)\n",
    "z_log_var = layers.Dense(latent_dim, name=\"z_log_var\")(x)\n",
    "z = Sampling()([z_mean, z_log_var])\n",
    "encoder = keras.Model(encoder_inputs, [z_mean, z_log_var, z], name=\"encoder\")\n",
    "encoder.summary()\n"
   ]
  },
  {
   "cell_type": "code",
   "execution_count": null,
   "metadata": {
    "colab": {
     "base_uri": "https://localhost:8080/"
    },
    "id": "HFfzwVxAg9cd",
    "outputId": "f01395b1-d79f-4c27-cea4-f50657f4672e"
   },
   "outputs": [
    {
     "name": "stdout",
     "output_type": "stream",
     "text": [
      "Model: \"decoder\"\n",
      "_________________________________________________________________\n",
      "Layer (type)                 Output Shape              Param #   \n",
      "=================================================================\n",
      "input_2 (InputLayer)         [(None, 3072)]            0         \n",
      "_________________________________________________________________\n",
      "dense_1 (Dense)              (None, 3072)              9440256   \n",
      "_________________________________________________________________\n",
      "batch_normalization_4 (Batch (None, 3072)              12288     \n",
      "_________________________________________________________________\n",
      "reshape (Reshape)            (None, 32, 32, 3)         0         \n",
      "_________________________________________________________________\n",
      "conv2d_transpose (Conv2DTran (None, 64, 64, 128)       6272      \n",
      "_________________________________________________________________\n",
      "batch_normalization_5 (Batch (None, 64, 64, 128)       512       \n",
      "_________________________________________________________________\n",
      "conv2d_transpose_1 (Conv2DTr (None, 128, 128, 64)      524352    \n",
      "_________________________________________________________________\n",
      "batch_normalization_6 (Batch (None, 128, 128, 64)      256       \n",
      "_________________________________________________________________\n",
      "conv2d_4 (Conv2D)            (None, 64, 64, 32)        73760     \n",
      "_________________________________________________________________\n",
      "conv2d_transpose_2 (Conv2DTr (None, 64, 64, 3)         867       \n",
      "=================================================================\n",
      "Total params: 10,058,563\n",
      "Trainable params: 10,052,035\n",
      "Non-trainable params: 6,528\n",
      "_________________________________________________________________\n"
     ]
    }
   ],
   "source": [
    "latent_inputs = keras.Input(shape=(latent_dim,))\n",
    "x = layers.Dense(latent_dim, activation=\"relu\")(latent_inputs)\n",
    "x = layers.BatchNormalization()(x)\n",
    "x = layers.Reshape((32, 32, 3))(x)\n",
    "x = layers.Conv2DTranspose(128, 4, activation=\"relu\", strides=2, padding=\"same\")(x)\n",
    "x = layers.BatchNormalization()(x)\n",
    "x = layers.Conv2DTranspose(64, 8, activation=\"relu\", strides=2, padding=\"same\")(x)\n",
    "x = layers.BatchNormalization()(x)\n",
    "x = layers.Conv2D(32, 6, activation=\"relu\", strides=2, padding=\"same\")(x)\n",
    "decoder_outputs = layers.Conv2DTranspose(3, 3, activation=\"sigmoid\", padding=\"same\")(x)\n",
    "decoder = keras.Model(latent_inputs, decoder_outputs, name=\"decoder\")\n",
    "decoder.summary() "
   ]
  },
  {
   "cell_type": "code",
   "execution_count": null,
   "metadata": {
    "id": "MJo0eDF1g9fC"
   },
   "outputs": [],
   "source": [
    "class VAE(keras.Model):\n",
    "    def __init__(self, encoder, decoder, **kwargs):\n",
    "        super(VAE, self).__init__(**kwargs)\n",
    "        self.encoder = encoder\n",
    "        self.decoder = decoder\n",
    "\n",
    "\n",
    "    def train_step(self, data):\n",
    "        if isinstance(data, tuple):\n",
    "            data = data[0]\n",
    "        with tf.GradientTape() as tape:\n",
    "            z_mean, z_log_var, z = encoder(data)\n",
    "            reconstruction = decoder(z)\n",
    "            reconstruction_loss = tf.reduce_mean(\n",
    "                keras.losses.mse(data, reconstruction)\n",
    "            )\n",
    "            reconstruction_loss *= 64 * 64 * 3\n",
    "            kl_loss = 1 + z_log_var - tf.square(z_mean) - tf.exp(z_log_var)\n",
    "            kl_loss = tf.reduce_mean(kl_loss)\n",
    "            kl_loss *= -0.5\n",
    "            total_loss = reconstruction_loss + kl_loss\n",
    "        grads = tape.gradient(total_loss, self.trainable_weights)\n",
    "        self.optimizer.apply_gradients(zip(grads, self.trainable_weights))\n",
    "        return {\n",
    "            \"loss\": total_loss,\n",
    "            \"reconstruction_loss\": reconstruction_loss,\n",
    "            \"kl_loss\": kl_loss,\n",
    "        }"
   ]
  },
  {
   "cell_type": "code",
   "execution_count": null,
   "metadata": {
    "colab": {
     "base_uri": "https://localhost:8080/"
    },
    "id": "8wllsO2ChSnj",
    "outputId": "3b7c5005-9d04-4f24-81f6-37ee08483e75"
   },
   "outputs": [
    {
     "name": "stdout",
     "output_type": "stream",
     "text": [
      "Epoch 1/30\n",
      "  2/124 [..............................] - ETA: 8s - loss: 889.4476 - reconstruction_loss: 889.4474 - kl_loss: 2.3162e-04WARNING:tensorflow:Callbacks method `on_train_batch_end` is slow compared to the batch time (batch time: 0.0496s vs `on_train_batch_end` time: 0.0957s). Check your callbacks.\n",
      "124/124 [==============================] - 18s 143ms/step - loss: 466.4457 - reconstruction_loss: 465.9737 - kl_loss: 0.4720\n",
      "Epoch 2/30\n",
      "124/124 [==============================] - 18s 144ms/step - loss: 267.2941 - reconstruction_loss: 266.3904 - kl_loss: 0.9036\n",
      "Epoch 3/30\n",
      "124/124 [==============================] - 18s 143ms/step - loss: 226.5537 - reconstruction_loss: 225.2469 - kl_loss: 1.3068\n",
      "Epoch 4/30\n",
      "124/124 [==============================] - 18s 143ms/step - loss: 205.6609 - reconstruction_loss: 204.2174 - kl_loss: 1.4434\n",
      "Epoch 5/30\n",
      "124/124 [==============================] - 18s 143ms/step - loss: 186.6706 - reconstruction_loss: 185.1324 - kl_loss: 1.5382\n",
      "Epoch 6/30\n",
      "124/124 [==============================] - 18s 143ms/step - loss: 165.8388 - reconstruction_loss: 164.2979 - kl_loss: 1.5409\n",
      "Epoch 7/30\n",
      "124/124 [==============================] - 18s 143ms/step - loss: 156.0187 - reconstruction_loss: 154.4605 - kl_loss: 1.5583\n",
      "Epoch 8/30\n",
      "124/124 [==============================] - 18s 143ms/step - loss: 151.6542 - reconstruction_loss: 150.0736 - kl_loss: 1.5806\n",
      "Epoch 9/30\n",
      "124/124 [==============================] - 18s 143ms/step - loss: 144.7623 - reconstruction_loss: 143.1818 - kl_loss: 1.5805\n",
      "Epoch 10/30\n",
      "124/124 [==============================] - 18s 143ms/step - loss: 135.9975 - reconstruction_loss: 134.3776 - kl_loss: 1.6199\n",
      "Epoch 11/30\n",
      "124/124 [==============================] - 18s 143ms/step - loss: 131.8180 - reconstruction_loss: 130.2088 - kl_loss: 1.6092\n",
      "Epoch 12/30\n",
      "124/124 [==============================] - 18s 143ms/step - loss: 126.8404 - reconstruction_loss: 125.1958 - kl_loss: 1.6446\n",
      "Epoch 13/30\n",
      "124/124 [==============================] - 18s 143ms/step - loss: 123.0056 - reconstruction_loss: 121.3534 - kl_loss: 1.6522\n",
      "Epoch 14/30\n",
      "124/124 [==============================] - 18s 143ms/step - loss: 120.3224 - reconstruction_loss: 118.6630 - kl_loss: 1.6595\n",
      "Epoch 15/30\n",
      "124/124 [==============================] - 18s 143ms/step - loss: 116.0379 - reconstruction_loss: 114.3574 - kl_loss: 1.6805\n",
      "Epoch 16/30\n",
      "124/124 [==============================] - 18s 143ms/step - loss: 114.7760 - reconstruction_loss: 113.0861 - kl_loss: 1.6899\n",
      "Epoch 17/30\n",
      "124/124 [==============================] - 18s 143ms/step - loss: 112.7356 - reconstruction_loss: 111.0290 - kl_loss: 1.7066\n",
      "Epoch 18/30\n",
      "124/124 [==============================] - 18s 143ms/step - loss: 109.1377 - reconstruction_loss: 107.4299 - kl_loss: 1.7079\n",
      "Epoch 19/30\n",
      "124/124 [==============================] - 18s 144ms/step - loss: 108.7654 - reconstruction_loss: 107.0658 - kl_loss: 1.6996\n",
      "Epoch 20/30\n",
      "124/124 [==============================] - 18s 143ms/step - loss: 106.3738 - reconstruction_loss: 104.6399 - kl_loss: 1.7339\n",
      "Epoch 21/30\n",
      "124/124 [==============================] - 18s 143ms/step - loss: 106.7763 - reconstruction_loss: 105.0285 - kl_loss: 1.7478\n",
      "Epoch 22/30\n",
      "124/124 [==============================] - 18s 143ms/step - loss: 101.4360 - reconstruction_loss: 99.6810 - kl_loss: 1.7550\n",
      "Epoch 23/30\n",
      "124/124 [==============================] - 18s 143ms/step - loss: 98.4056 - reconstruction_loss: 96.6626 - kl_loss: 1.7430\n",
      "Epoch 24/30\n",
      "124/124 [==============================] - 18s 143ms/step - loss: 97.8840 - reconstruction_loss: 96.1152 - kl_loss: 1.7688\n",
      "Epoch 25/30\n",
      "124/124 [==============================] - 18s 143ms/step - loss: 96.8193 - reconstruction_loss: 95.0546 - kl_loss: 1.7647\n",
      "Epoch 26/30\n",
      "124/124 [==============================] - 18s 143ms/step - loss: 95.0100 - reconstruction_loss: 93.2154 - kl_loss: 1.7946\n",
      "Epoch 27/30\n",
      "124/124 [==============================] - 18s 143ms/step - loss: 94.2154 - reconstruction_loss: 92.4131 - kl_loss: 1.8024\n",
      "Epoch 28/30\n",
      "124/124 [==============================] - 18s 143ms/step - loss: 92.1193 - reconstruction_loss: 90.3165 - kl_loss: 1.8028\n",
      "Epoch 29/30\n",
      "124/124 [==============================] - 18s 143ms/step - loss: 92.4835 - reconstruction_loss: 90.6554 - kl_loss: 1.8280\n",
      "Epoch 30/30\n",
      "124/124 [==============================] - 18s 143ms/step - loss: 89.0744 - reconstruction_loss: 87.2410 - kl_loss: 1.8335\n"
     ]
    },
    {
     "data": {
      "text/plain": [
       "<tensorflow.python.keras.callbacks.History at 0x7f30e0073358>"
      ]
     },
     "execution_count": 8,
     "metadata": {
      "tags": []
     },
     "output_type": "execute_result"
    }
   ],
   "source": [
    "vae = VAE(encoder, decoder)\n",
    "vae.compile(optimizer=keras.optimizers.Adam())\n",
    "vae.fit(images, epochs=30, batch_size=128)"
   ]
  },
  {
   "cell_type": "code",
   "execution_count": null,
   "metadata": {
    "id": "vMnRH4e1jdlO"
   },
   "outputs": [],
   "source": [
    "encoder.save('/content/drive/My Drive/Models/cats_enc30.h5')\n",
    "decoder.save('/content/drive/My Drive/Models/cats_dec30.h5')"
   ]
  },
  {
   "cell_type": "code",
   "execution_count": null,
   "metadata": {
    "colab": {
     "base_uri": "https://localhost:8080/"
    },
    "id": "R0mO74DakDCV",
    "outputId": "489523f1-b5a0-4dbc-bd74-1778f8ad06fb"
   },
   "outputs": [
    {
     "name": "stdout",
     "output_type": "stream",
     "text": [
      "Epoch 1/270\n",
      "  2/124 [..............................] - ETA: 14s - loss: 163.8425 - reconstruction_loss: 162.1173 - kl_loss: 1.7252WARNING:tensorflow:Callbacks method `on_train_batch_end` is slow compared to the batch time (batch time: 0.0487s vs `on_train_batch_end` time: 0.0968s). Check your callbacks.\n",
      "124/124 [==============================] - 18s 143ms/step - loss: 95.3036 - reconstruction_loss: 93.4337 - kl_loss: 1.8699\n",
      "Epoch 2/270\n",
      "124/124 [==============================] - 18s 143ms/step - loss: 86.5154 - reconstruction_loss: 84.6867 - kl_loss: 1.8287\n",
      "Epoch 3/270\n",
      "124/124 [==============================] - 18s 143ms/step - loss: 84.4835 - reconstruction_loss: 82.6483 - kl_loss: 1.8353\n",
      "Epoch 4/270\n",
      "124/124 [==============================] - 18s 143ms/step - loss: 84.0019 - reconstruction_loss: 82.1642 - kl_loss: 1.8377\n",
      "Epoch 5/270\n",
      "124/124 [==============================] - 18s 143ms/step - loss: 83.9060 - reconstruction_loss: 82.0505 - kl_loss: 1.8556\n",
      "Epoch 6/270\n",
      "124/124 [==============================] - 18s 143ms/step - loss: 82.7819 - reconstruction_loss: 80.9207 - kl_loss: 1.8612\n",
      "Epoch 7/270\n",
      "124/124 [==============================] - 18s 144ms/step - loss: 90.9190 - reconstruction_loss: 89.0190 - kl_loss: 1.9001\n",
      "Epoch 8/270\n",
      "124/124 [==============================] - 18s 143ms/step - loss: 79.7305 - reconstruction_loss: 77.8514 - kl_loss: 1.8791\n",
      "Epoch 9/270\n",
      "124/124 [==============================] - 18s 143ms/step - loss: 79.0423 - reconstruction_loss: 77.1647 - kl_loss: 1.8776\n",
      "Epoch 10/270\n",
      "124/124 [==============================] - 18s 143ms/step - loss: 78.8884 - reconstruction_loss: 76.9934 - kl_loss: 1.8950\n",
      "Epoch 11/270\n",
      "124/124 [==============================] - 18s 143ms/step - loss: 77.1425 - reconstruction_loss: 75.2502 - kl_loss: 1.8923\n",
      "Epoch 12/270\n",
      "124/124 [==============================] - 18s 143ms/step - loss: 75.7387 - reconstruction_loss: 73.8360 - kl_loss: 1.9027\n",
      "Epoch 13/270\n",
      "124/124 [==============================] - 18s 143ms/step - loss: 76.3855 - reconstruction_loss: 74.4651 - kl_loss: 1.9204\n",
      "Epoch 14/270\n",
      "124/124 [==============================] - 18s 143ms/step - loss: 75.9534 - reconstruction_loss: 74.0199 - kl_loss: 1.9335\n",
      "Epoch 15/270\n",
      "124/124 [==============================] - 18s 143ms/step - loss: 73.1994 - reconstruction_loss: 71.2768 - kl_loss: 1.9226\n",
      "Epoch 16/270\n",
      "124/124 [==============================] - 18s 143ms/step - loss: 72.9256 - reconstruction_loss: 71.0016 - kl_loss: 1.9240\n",
      "Epoch 17/270\n",
      "124/124 [==============================] - 18s 144ms/step - loss: 72.5510 - reconstruction_loss: 70.6065 - kl_loss: 1.9444\n",
      "Epoch 18/270\n",
      "124/124 [==============================] - 18s 143ms/step - loss: 72.5277 - reconstruction_loss: 70.5885 - kl_loss: 1.9392\n",
      "Epoch 19/270\n",
      "124/124 [==============================] - 18s 143ms/step - loss: 70.2805 - reconstruction_loss: 68.3214 - kl_loss: 1.9591\n",
      "Epoch 20/270\n",
      "124/124 [==============================] - 18s 143ms/step - loss: 69.4192 - reconstruction_loss: 67.4619 - kl_loss: 1.9573\n",
      "Epoch 21/270\n",
      "124/124 [==============================] - 18s 143ms/step - loss: 71.0867 - reconstruction_loss: 69.1089 - kl_loss: 1.9778\n",
      "Epoch 22/270\n",
      "124/124 [==============================] - 18s 143ms/step - loss: 67.9086 - reconstruction_loss: 65.9376 - kl_loss: 1.9710\n",
      "Epoch 23/270\n",
      "124/124 [==============================] - 18s 143ms/step - loss: 67.0688 - reconstruction_loss: 65.0837 - kl_loss: 1.9851\n",
      "Epoch 24/270\n",
      "124/124 [==============================] - 18s 144ms/step - loss: 66.6661 - reconstruction_loss: 64.6800 - kl_loss: 1.9860\n",
      "Epoch 25/270\n",
      "124/124 [==============================] - 18s 143ms/step - loss: 68.6774 - reconstruction_loss: 66.6783 - kl_loss: 1.9990\n",
      "Epoch 26/270\n",
      "124/124 [==============================] - 18s 144ms/step - loss: 65.1823 - reconstruction_loss: 63.1833 - kl_loss: 1.9990\n",
      "Epoch 27/270\n",
      "124/124 [==============================] - 18s 144ms/step - loss: 64.4425 - reconstruction_loss: 62.4421 - kl_loss: 2.0004\n",
      "Epoch 28/270\n",
      "124/124 [==============================] - 18s 143ms/step - loss: 64.2979 - reconstruction_loss: 62.2812 - kl_loss: 2.0168\n",
      "Epoch 29/270\n",
      "124/124 [==============================] - 18s 144ms/step - loss: 67.8952 - reconstruction_loss: 65.8710 - kl_loss: 2.0242\n",
      "Epoch 30/270\n",
      "124/124 [==============================] - 18s 143ms/step - loss: 63.7021 - reconstruction_loss: 61.6807 - kl_loss: 2.0214\n",
      "Epoch 31/270\n",
      "124/124 [==============================] - 18s 143ms/step - loss: 63.2005 - reconstruction_loss: 61.1732 - kl_loss: 2.0273\n",
      "Epoch 32/270\n",
      "124/124 [==============================] - 18s 143ms/step - loss: 62.7703 - reconstruction_loss: 60.7357 - kl_loss: 2.0345\n",
      "Epoch 33/270\n",
      "124/124 [==============================] - 18s 143ms/step - loss: 63.9199 - reconstruction_loss: 61.8619 - kl_loss: 2.0581\n",
      "Epoch 34/270\n",
      "124/124 [==============================] - 18s 143ms/step - loss: 60.6850 - reconstruction_loss: 58.6431 - kl_loss: 2.0420\n",
      "Epoch 35/270\n",
      "124/124 [==============================] - 18s 143ms/step - loss: 61.2228 - reconstruction_loss: 59.1778 - kl_loss: 2.0450\n",
      "Epoch 36/270\n",
      "124/124 [==============================] - 18s 143ms/step - loss: 60.3291 - reconstruction_loss: 58.2739 - kl_loss: 2.0553\n",
      "Epoch 37/270\n",
      "124/124 [==============================] - 18s 143ms/step - loss: 60.6674 - reconstruction_loss: 58.6034 - kl_loss: 2.0640\n",
      "Epoch 38/270\n",
      "124/124 [==============================] - 18s 143ms/step - loss: 58.6293 - reconstruction_loss: 56.5728 - kl_loss: 2.0566\n",
      "Epoch 39/270\n",
      "124/124 [==============================] - 18s 143ms/step - loss: 58.9456 - reconstruction_loss: 56.8782 - kl_loss: 2.0674\n",
      "Epoch 40/270\n",
      "124/124 [==============================] - 18s 143ms/step - loss: 57.7879 - reconstruction_loss: 55.7189 - kl_loss: 2.0690\n",
      "Epoch 41/270\n",
      "124/124 [==============================] - 18s 143ms/step - loss: 57.8179 - reconstruction_loss: 55.7394 - kl_loss: 2.0785\n",
      "Epoch 42/270\n",
      "124/124 [==============================] - 18s 144ms/step - loss: 56.7179 - reconstruction_loss: 54.6285 - kl_loss: 2.0895\n",
      "Epoch 43/270\n",
      "124/124 [==============================] - 18s 143ms/step - loss: 56.5684 - reconstruction_loss: 54.4779 - kl_loss: 2.0905\n",
      "Epoch 44/270\n",
      "124/124 [==============================] - 18s 144ms/step - loss: 55.8157 - reconstruction_loss: 53.7251 - kl_loss: 2.0907\n",
      "Epoch 45/270\n",
      "124/124 [==============================] - 18s 144ms/step - loss: 56.8043 - reconstruction_loss: 54.7014 - kl_loss: 2.1029\n",
      "Epoch 46/270\n",
      "124/124 [==============================] - 18s 143ms/step - loss: 57.3198 - reconstruction_loss: 55.2120 - kl_loss: 2.1079\n",
      "Epoch 47/270\n",
      "124/124 [==============================] - 18s 143ms/step - loss: 57.8557 - reconstruction_loss: 55.7374 - kl_loss: 2.1184\n",
      "Epoch 48/270\n",
      "124/124 [==============================] - 18s 143ms/step - loss: 55.2192 - reconstruction_loss: 53.1093 - kl_loss: 2.1099\n",
      "Epoch 49/270\n",
      "124/124 [==============================] - 18s 144ms/step - loss: 54.4001 - reconstruction_loss: 52.2893 - kl_loss: 2.1108\n",
      "Epoch 50/270\n",
      "124/124 [==============================] - 18s 143ms/step - loss: 55.6317 - reconstruction_loss: 53.5054 - kl_loss: 2.1263\n",
      "Epoch 51/270\n",
      "124/124 [==============================] - 18s 143ms/step - loss: 53.4671 - reconstruction_loss: 51.3445 - kl_loss: 2.1225\n",
      "Epoch 52/270\n",
      "124/124 [==============================] - 18s 144ms/step - loss: 53.3733 - reconstruction_loss: 51.2399 - kl_loss: 2.1335\n",
      "Epoch 53/270\n",
      "124/124 [==============================] - 18s 143ms/step - loss: 52.0844 - reconstruction_loss: 49.9499 - kl_loss: 2.1345\n",
      "Epoch 54/270\n",
      "124/124 [==============================] - 18s 143ms/step - loss: 51.7391 - reconstruction_loss: 49.6002 - kl_loss: 2.1389\n",
      "Epoch 55/270\n",
      "124/124 [==============================] - 18s 143ms/step - loss: 52.2070 - reconstruction_loss: 50.0626 - kl_loss: 2.1444\n",
      "Epoch 56/270\n",
      "124/124 [==============================] - 18s 143ms/step - loss: 53.6209 - reconstruction_loss: 51.4615 - kl_loss: 2.1594\n",
      "Epoch 57/270\n",
      "124/124 [==============================] - 18s 143ms/step - loss: 53.4435 - reconstruction_loss: 51.2851 - kl_loss: 2.1584\n",
      "Epoch 58/270\n",
      "124/124 [==============================] - 18s 143ms/step - loss: 51.6995 - reconstruction_loss: 49.5485 - kl_loss: 2.1510\n",
      "Epoch 59/270\n",
      "124/124 [==============================] - 18s 144ms/step - loss: 50.8900 - reconstruction_loss: 48.7314 - kl_loss: 2.1586\n",
      "Epoch 60/270\n",
      "124/124 [==============================] - 18s 143ms/step - loss: 49.6278 - reconstruction_loss: 47.4659 - kl_loss: 2.1619\n",
      "Epoch 61/270\n",
      "124/124 [==============================] - 18s 143ms/step - loss: 52.4017 - reconstruction_loss: 50.2290 - kl_loss: 2.1726\n",
      "Epoch 62/270\n",
      "124/124 [==============================] - 18s 143ms/step - loss: 51.3426 - reconstruction_loss: 49.1595 - kl_loss: 2.1831\n",
      "Epoch 63/270\n",
      "124/124 [==============================] - 18s 143ms/step - loss: 50.1867 - reconstruction_loss: 48.0089 - kl_loss: 2.1778\n",
      "Epoch 64/270\n",
      "124/124 [==============================] - 18s 143ms/step - loss: 48.9162 - reconstruction_loss: 46.7319 - kl_loss: 2.1843\n",
      "Epoch 65/270\n",
      "124/124 [==============================] - 18s 143ms/step - loss: 51.1892 - reconstruction_loss: 48.9994 - kl_loss: 2.1898\n",
      "Epoch 66/270\n",
      "124/124 [==============================] - 18s 143ms/step - loss: 50.1923 - reconstruction_loss: 47.9983 - kl_loss: 2.1940\n",
      "Epoch 67/270\n",
      "124/124 [==============================] - 18s 143ms/step - loss: 49.0382 - reconstruction_loss: 46.8490 - kl_loss: 2.1892\n",
      "Epoch 68/270\n",
      "124/124 [==============================] - 18s 143ms/step - loss: 48.6027 - reconstruction_loss: 46.4036 - kl_loss: 2.1991\n",
      "Epoch 69/270\n",
      "124/124 [==============================] - 18s 143ms/step - loss: 48.3087 - reconstruction_loss: 46.1078 - kl_loss: 2.2009\n",
      "Epoch 70/270\n",
      "124/124 [==============================] - 18s 143ms/step - loss: 50.1473 - reconstruction_loss: 47.9453 - kl_loss: 2.2020\n",
      "Epoch 71/270\n",
      "124/124 [==============================] - 18s 143ms/step - loss: 47.1456 - reconstruction_loss: 44.9372 - kl_loss: 2.2084\n",
      "Epoch 72/270\n",
      "124/124 [==============================] - 18s 143ms/step - loss: 47.3095 - reconstruction_loss: 45.1007 - kl_loss: 2.2088\n",
      "Epoch 73/270\n",
      "124/124 [==============================] - 18s 143ms/step - loss: 47.2341 - reconstruction_loss: 45.0157 - kl_loss: 2.2184\n",
      "Epoch 74/270\n",
      "124/124 [==============================] - 18s 143ms/step - loss: 48.7029 - reconstruction_loss: 46.4857 - kl_loss: 2.2172\n",
      "Epoch 75/270\n",
      "124/124 [==============================] - 18s 143ms/step - loss: 47.9395 - reconstruction_loss: 45.7112 - kl_loss: 2.2283\n",
      "Epoch 76/270\n",
      "124/124 [==============================] - 18s 144ms/step - loss: 47.4763 - reconstruction_loss: 45.2555 - kl_loss: 2.2208\n",
      "Epoch 77/270\n",
      "124/124 [==============================] - 18s 144ms/step - loss: 132.4526 - reconstruction_loss: 129.7998 - kl_loss: 2.6528\n",
      "Epoch 78/270\n",
      "124/124 [==============================] - 18s 143ms/step - loss: 74.6371 - reconstruction_loss: 72.2153 - kl_loss: 2.4217\n",
      "Epoch 79/270\n",
      "124/124 [==============================] - 18s 143ms/step - loss: 58.2745 - reconstruction_loss: 56.0366 - kl_loss: 2.2378\n",
      "Epoch 80/270\n",
      "124/124 [==============================] - 18s 143ms/step - loss: 52.8354 - reconstruction_loss: 50.6111 - kl_loss: 2.2243\n",
      "Epoch 81/270\n",
      "124/124 [==============================] - 18s 143ms/step - loss: 50.4399 - reconstruction_loss: 48.2096 - kl_loss: 2.2303\n",
      "Epoch 82/270\n",
      "124/124 [==============================] - 18s 143ms/step - loss: 48.5422 - reconstruction_loss: 46.3078 - kl_loss: 2.2344\n",
      "Epoch 83/270\n",
      "124/124 [==============================] - 18s 143ms/step - loss: 47.6748 - reconstruction_loss: 45.4384 - kl_loss: 2.2364\n",
      "Epoch 84/270\n",
      "124/124 [==============================] - 18s 143ms/step - loss: 48.9490 - reconstruction_loss: 46.7044 - kl_loss: 2.2446\n",
      "Epoch 85/270\n",
      "124/124 [==============================] - 18s 143ms/step - loss: 46.2781 - reconstruction_loss: 44.0303 - kl_loss: 2.2478\n",
      "Epoch 86/270\n",
      "124/124 [==============================] - 18s 143ms/step - loss: 46.8620 - reconstruction_loss: 44.6161 - kl_loss: 2.2459\n",
      "Epoch 87/270\n",
      "124/124 [==============================] - 18s 143ms/step - loss: 45.9084 - reconstruction_loss: 43.6590 - kl_loss: 2.2494\n",
      "Epoch 88/270\n",
      "124/124 [==============================] - 18s 144ms/step - loss: 45.2770 - reconstruction_loss: 43.0261 - kl_loss: 2.2509\n",
      "Epoch 89/270\n",
      "124/124 [==============================] - 18s 143ms/step - loss: 45.3624 - reconstruction_loss: 43.1115 - kl_loss: 2.2509\n",
      "Epoch 90/270\n",
      "124/124 [==============================] - 18s 143ms/step - loss: 45.8504 - reconstruction_loss: 43.5939 - kl_loss: 2.2565\n",
      "Epoch 91/270\n",
      "124/124 [==============================] - 18s 143ms/step - loss: 44.9527 - reconstruction_loss: 42.6932 - kl_loss: 2.2595\n",
      "Epoch 92/270\n",
      "124/124 [==============================] - 18s 143ms/step - loss: 45.7134 - reconstruction_loss: 43.4559 - kl_loss: 2.2574\n",
      "Epoch 93/270\n",
      "124/124 [==============================] - 18s 143ms/step - loss: 44.2267 - reconstruction_loss: 41.9654 - kl_loss: 2.2613\n",
      "Epoch 94/270\n",
      "124/124 [==============================] - 18s 144ms/step - loss: 45.4454 - reconstruction_loss: 43.1713 - kl_loss: 2.2742\n",
      "Epoch 95/270\n",
      "124/124 [==============================] - 18s 143ms/step - loss: 45.8840 - reconstruction_loss: 43.6148 - kl_loss: 2.2692\n",
      "Epoch 96/270\n",
      "124/124 [==============================] - 18s 143ms/step - loss: 45.7789 - reconstruction_loss: 43.5001 - kl_loss: 2.2788\n",
      "Epoch 97/270\n",
      "124/124 [==============================] - 18s 143ms/step - loss: 43.9017 - reconstruction_loss: 41.6352 - kl_loss: 2.2665\n",
      "Epoch 98/270\n",
      "124/124 [==============================] - 18s 144ms/step - loss: 44.1794 - reconstruction_loss: 41.8974 - kl_loss: 2.2820\n",
      "Epoch 99/270\n",
      "124/124 [==============================] - 18s 143ms/step - loss: 45.5692 - reconstruction_loss: 43.3008 - kl_loss: 2.2684\n",
      "Epoch 100/270\n",
      "124/124 [==============================] - 18s 144ms/step - loss: 42.9916 - reconstruction_loss: 40.7186 - kl_loss: 2.2730\n",
      "Epoch 101/270\n",
      "124/124 [==============================] - 18s 143ms/step - loss: 43.5918 - reconstruction_loss: 41.2947 - kl_loss: 2.2970\n",
      "Epoch 102/270\n",
      "124/124 [==============================] - 18s 143ms/step - loss: 44.8124 - reconstruction_loss: 42.5238 - kl_loss: 2.2886\n",
      "Epoch 103/270\n",
      "124/124 [==============================] - 18s 143ms/step - loss: 43.5678 - reconstruction_loss: 41.2786 - kl_loss: 2.2892\n",
      "Epoch 104/270\n",
      "124/124 [==============================] - 18s 143ms/step - loss: 42.8444 - reconstruction_loss: 40.5476 - kl_loss: 2.2968\n",
      "Epoch 105/270\n",
      "124/124 [==============================] - 18s 143ms/step - loss: 42.8592 - reconstruction_loss: 40.5642 - kl_loss: 2.2950\n",
      "Epoch 106/270\n",
      "124/124 [==============================] - 18s 143ms/step - loss: 43.0992 - reconstruction_loss: 40.7996 - kl_loss: 2.2997\n",
      "Epoch 107/270\n",
      "124/124 [==============================] - 18s 143ms/step - loss: 42.5620 - reconstruction_loss: 40.2552 - kl_loss: 2.3068\n",
      "Epoch 108/270\n",
      "124/124 [==============================] - 18s 143ms/step - loss: 44.9885 - reconstruction_loss: 42.6810 - kl_loss: 2.3075\n",
      "Epoch 109/270\n",
      "124/124 [==============================] - 18s 144ms/step - loss: 42.1337 - reconstruction_loss: 39.8257 - kl_loss: 2.3080\n",
      "Epoch 110/270\n",
      "124/124 [==============================] - 18s 143ms/step - loss: 42.9512 - reconstruction_loss: 40.6387 - kl_loss: 2.3125\n",
      "Epoch 111/270\n",
      "124/124 [==============================] - 18s 144ms/step - loss: 41.3831 - reconstruction_loss: 39.0730 - kl_loss: 2.3100\n",
      "Epoch 112/270\n",
      "124/124 [==============================] - 18s 144ms/step - loss: 42.2849 - reconstruction_loss: 39.9633 - kl_loss: 2.3216\n",
      "Epoch 113/270\n",
      "124/124 [==============================] - 18s 144ms/step - loss: 43.7361 - reconstruction_loss: 41.4128 - kl_loss: 2.3233\n",
      "Epoch 114/270\n",
      "124/124 [==============================] - 18s 144ms/step - loss: 41.9260 - reconstruction_loss: 39.6122 - kl_loss: 2.3138\n",
      "Epoch 115/270\n",
      "124/124 [==============================] - 18s 144ms/step - loss: 41.8640 - reconstruction_loss: 39.5390 - kl_loss: 2.3250\n",
      "Epoch 116/270\n",
      "124/124 [==============================] - 18s 144ms/step - loss: 41.1202 - reconstruction_loss: 38.8044 - kl_loss: 2.3158\n",
      "Epoch 117/270\n",
      "124/124 [==============================] - 18s 143ms/step - loss: 41.0644 - reconstruction_loss: 38.7396 - kl_loss: 2.3248\n",
      "Epoch 118/270\n",
      "124/124 [==============================] - 18s 143ms/step - loss: 42.2802 - reconstruction_loss: 39.9476 - kl_loss: 2.3326\n",
      "Epoch 119/270\n",
      "124/124 [==============================] - 18s 144ms/step - loss: 40.9760 - reconstruction_loss: 38.6349 - kl_loss: 2.3410\n",
      "Epoch 120/270\n",
      "124/124 [==============================] - 18s 143ms/step - loss: 40.6924 - reconstruction_loss: 38.3542 - kl_loss: 2.3382\n",
      "Epoch 121/270\n",
      "124/124 [==============================] - 18s 143ms/step - loss: 40.5822 - reconstruction_loss: 38.2469 - kl_loss: 2.3353\n",
      "Epoch 122/270\n",
      "124/124 [==============================] - 18s 143ms/step - loss: 40.3786 - reconstruction_loss: 38.0363 - kl_loss: 2.3423\n",
      "Epoch 123/270\n",
      "124/124 [==============================] - 18s 143ms/step - loss: 40.5638 - reconstruction_loss: 38.2124 - kl_loss: 2.3514\n",
      "Epoch 124/270\n",
      "124/124 [==============================] - 18s 144ms/step - loss: 46.2314 - reconstruction_loss: 43.8914 - kl_loss: 2.3400\n",
      "Epoch 125/270\n",
      "124/124 [==============================] - 18s 143ms/step - loss: 40.4295 - reconstruction_loss: 38.0832 - kl_loss: 2.3464\n",
      "Epoch 126/270\n",
      "124/124 [==============================] - 18s 144ms/step - loss: 40.0429 - reconstruction_loss: 37.6907 - kl_loss: 2.3522\n",
      "Epoch 127/270\n",
      "124/124 [==============================] - 18s 144ms/step - loss: 39.9451 - reconstruction_loss: 37.5975 - kl_loss: 2.3475\n",
      "Epoch 128/270\n",
      "124/124 [==============================] - 18s 144ms/step - loss: 39.5789 - reconstruction_loss: 37.2249 - kl_loss: 2.3539\n",
      "Epoch 129/270\n",
      "124/124 [==============================] - 18s 144ms/step - loss: 39.9711 - reconstruction_loss: 37.6076 - kl_loss: 2.3635\n",
      "Epoch 130/270\n",
      "124/124 [==============================] - 18s 144ms/step - loss: 40.2371 - reconstruction_loss: 37.8747 - kl_loss: 2.3624\n",
      "Epoch 131/270\n",
      "124/124 [==============================] - 18s 143ms/step - loss: 39.3051 - reconstruction_loss: 36.9458 - kl_loss: 2.3593\n",
      "Epoch 132/270\n",
      "124/124 [==============================] - 18s 144ms/step - loss: 39.4190 - reconstruction_loss: 37.0554 - kl_loss: 2.3636\n",
      "Epoch 133/270\n",
      "124/124 [==============================] - 18s 144ms/step - loss: 40.4530 - reconstruction_loss: 38.0929 - kl_loss: 2.3601\n",
      "Epoch 134/270\n",
      "124/124 [==============================] - 18s 144ms/step - loss: 45.0922 - reconstruction_loss: 42.7280 - kl_loss: 2.3643\n",
      "Epoch 135/270\n",
      "124/124 [==============================] - 18s 144ms/step - loss: 39.1726 - reconstruction_loss: 36.8118 - kl_loss: 2.3608\n",
      "Epoch 136/270\n",
      "124/124 [==============================] - 18s 144ms/step - loss: 38.0494 - reconstruction_loss: 35.6757 - kl_loss: 2.3737\n",
      "Epoch 137/270\n",
      "124/124 [==============================] - 18s 143ms/step - loss: 38.1159 - reconstruction_loss: 35.7425 - kl_loss: 2.3734\n",
      "Epoch 138/270\n",
      "124/124 [==============================] - 18s 144ms/step - loss: 38.3548 - reconstruction_loss: 35.9786 - kl_loss: 2.3762\n",
      "Epoch 139/270\n",
      "124/124 [==============================] - 18s 144ms/step - loss: 38.6518 - reconstruction_loss: 36.2720 - kl_loss: 2.3798\n",
      "Epoch 140/270\n",
      "124/124 [==============================] - 18s 144ms/step - loss: 41.3191 - reconstruction_loss: 38.9419 - kl_loss: 2.3772\n",
      "Epoch 141/270\n",
      "124/124 [==============================] - 18s 144ms/step - loss: 38.0844 - reconstruction_loss: 35.7016 - kl_loss: 2.3828\n",
      "Epoch 142/270\n",
      "124/124 [==============================] - 18s 144ms/step - loss: 38.5820 - reconstruction_loss: 36.2004 - kl_loss: 2.3816\n",
      "Epoch 143/270\n",
      "124/124 [==============================] - 18s 144ms/step - loss: 38.2857 - reconstruction_loss: 35.8978 - kl_loss: 2.3879\n",
      "Epoch 144/270\n",
      "124/124 [==============================] - 18s 144ms/step - loss: 40.3961 - reconstruction_loss: 38.0139 - kl_loss: 2.3823\n",
      "Epoch 145/270\n",
      "124/124 [==============================] - 18s 143ms/step - loss: 38.2044 - reconstruction_loss: 35.8113 - kl_loss: 2.3931\n",
      "Epoch 146/270\n",
      "124/124 [==============================] - 18s 144ms/step - loss: 37.4540 - reconstruction_loss: 35.0663 - kl_loss: 2.3877\n",
      "Epoch 147/270\n",
      "124/124 [==============================] - 18s 143ms/step - loss: 38.4431 - reconstruction_loss: 36.0532 - kl_loss: 2.3899\n",
      "Epoch 148/270\n",
      "124/124 [==============================] - 18s 143ms/step - loss: 38.8667 - reconstruction_loss: 36.4658 - kl_loss: 2.4009\n",
      "Epoch 149/270\n",
      "124/124 [==============================] - 18s 143ms/step - loss: 39.7401 - reconstruction_loss: 37.3530 - kl_loss: 2.3871\n",
      "Epoch 150/270\n",
      "124/124 [==============================] - 18s 143ms/step - loss: 37.7387 - reconstruction_loss: 35.3428 - kl_loss: 2.3959\n",
      "Epoch 151/270\n",
      "124/124 [==============================] - 18s 143ms/step - loss: 37.4819 - reconstruction_loss: 35.0904 - kl_loss: 2.3915\n",
      "Epoch 152/270\n",
      "124/124 [==============================] - 18s 143ms/step - loss: 37.1814 - reconstruction_loss: 34.7867 - kl_loss: 2.3947\n",
      "Epoch 153/270\n",
      "124/124 [==============================] - 18s 143ms/step - loss: 39.1305 - reconstruction_loss: 36.7335 - kl_loss: 2.3971\n",
      "Epoch 154/270\n",
      "124/124 [==============================] - 18s 143ms/step - loss: 36.5364 - reconstruction_loss: 34.1315 - kl_loss: 2.4050\n",
      "Epoch 155/270\n",
      "124/124 [==============================] - 18s 143ms/step - loss: 37.5466 - reconstruction_loss: 35.1284 - kl_loss: 2.4182\n",
      "Epoch 156/270\n",
      "124/124 [==============================] - 18s 143ms/step - loss: 39.4295 - reconstruction_loss: 37.0240 - kl_loss: 2.4055\n",
      "Epoch 157/270\n",
      "124/124 [==============================] - 18s 143ms/step - loss: 38.9519 - reconstruction_loss: 36.5487 - kl_loss: 2.4032\n",
      "Epoch 158/270\n",
      "124/124 [==============================] - 18s 143ms/step - loss: 37.1739 - reconstruction_loss: 34.7630 - kl_loss: 2.4109\n",
      "Epoch 159/270\n",
      "124/124 [==============================] - 18s 143ms/step - loss: 36.7457 - reconstruction_loss: 34.3355 - kl_loss: 2.4102\n",
      "Epoch 160/270\n",
      "124/124 [==============================] - 18s 144ms/step - loss: 36.5321 - reconstruction_loss: 34.1170 - kl_loss: 2.4151\n",
      "Epoch 161/270\n",
      "124/124 [==============================] - 18s 143ms/step - loss: 36.8024 - reconstruction_loss: 34.3833 - kl_loss: 2.4191\n",
      "Epoch 162/270\n",
      "124/124 [==============================] - 18s 144ms/step - loss: 36.8403 - reconstruction_loss: 34.4212 - kl_loss: 2.4192\n",
      "Epoch 163/270\n",
      "124/124 [==============================] - 18s 143ms/step - loss: 37.3187 - reconstruction_loss: 34.8977 - kl_loss: 2.4211\n",
      "Epoch 164/270\n",
      "124/124 [==============================] - 18s 144ms/step - loss: 37.4290 - reconstruction_loss: 35.0120 - kl_loss: 2.4170\n",
      "Epoch 165/270\n",
      "124/124 [==============================] - 18s 144ms/step - loss: 36.9121 - reconstruction_loss: 34.4931 - kl_loss: 2.4189\n",
      "Epoch 166/270\n",
      "124/124 [==============================] - 18s 143ms/step - loss: 38.0302 - reconstruction_loss: 35.5948 - kl_loss: 2.4354\n",
      "Epoch 167/270\n",
      "124/124 [==============================] - 18s 143ms/step - loss: 38.0138 - reconstruction_loss: 35.5880 - kl_loss: 2.4258\n",
      "Epoch 168/270\n",
      "124/124 [==============================] - 18s 143ms/step - loss: 37.1993 - reconstruction_loss: 34.7928 - kl_loss: 2.4065\n",
      "Epoch 169/270\n",
      "124/124 [==============================] - 18s 144ms/step - loss: 35.3977 - reconstruction_loss: 32.9676 - kl_loss: 2.4302\n",
      "Epoch 170/270\n",
      "124/124 [==============================] - 18s 143ms/step - loss: 36.1689 - reconstruction_loss: 33.7386 - kl_loss: 2.4302\n",
      "Epoch 171/270\n",
      "124/124 [==============================] - 18s 143ms/step - loss: 36.4894 - reconstruction_loss: 34.0591 - kl_loss: 2.4303\n",
      "Epoch 172/270\n",
      "124/124 [==============================] - 18s 143ms/step - loss: 36.3943 - reconstruction_loss: 33.9600 - kl_loss: 2.4344\n",
      "Epoch 173/270\n",
      "124/124 [==============================] - 18s 143ms/step - loss: 36.4629 - reconstruction_loss: 34.0328 - kl_loss: 2.4301\n",
      "Epoch 174/270\n",
      "124/124 [==============================] - 18s 144ms/step - loss: 37.0951 - reconstruction_loss: 34.6522 - kl_loss: 2.4429\n",
      "Epoch 175/270\n",
      "124/124 [==============================] - 18s 144ms/step - loss: 37.0417 - reconstruction_loss: 34.6144 - kl_loss: 2.4272\n",
      "Epoch 176/270\n",
      "124/124 [==============================] - 18s 143ms/step - loss: 35.5867 - reconstruction_loss: 33.1500 - kl_loss: 2.4367\n",
      "Epoch 177/270\n",
      "124/124 [==============================] - 18s 144ms/step - loss: 36.3320 - reconstruction_loss: 33.8903 - kl_loss: 2.4417\n",
      "Epoch 178/270\n",
      "124/124 [==============================] - 18s 143ms/step - loss: 36.2721 - reconstruction_loss: 33.8262 - kl_loss: 2.4459\n",
      "Epoch 179/270\n",
      "124/124 [==============================] - 18s 144ms/step - loss: 35.4957 - reconstruction_loss: 33.0475 - kl_loss: 2.4482\n",
      "Epoch 180/270\n",
      "124/124 [==============================] - 18s 143ms/step - loss: 36.0728 - reconstruction_loss: 33.6327 - kl_loss: 2.4401\n",
      "Epoch 181/270\n",
      "124/124 [==============================] - 18s 144ms/step - loss: 35.5585 - reconstruction_loss: 33.1020 - kl_loss: 2.4565\n",
      "Epoch 182/270\n",
      "124/124 [==============================] - 18s 144ms/step - loss: 37.7512 - reconstruction_loss: 35.3165 - kl_loss: 2.4347\n",
      "Epoch 183/270\n",
      "124/124 [==============================] - 18s 144ms/step - loss: 36.2538 - reconstruction_loss: 33.8105 - kl_loss: 2.4433\n",
      "Epoch 184/270\n",
      "124/124 [==============================] - 18s 144ms/step - loss: 35.9772 - reconstruction_loss: 33.5259 - kl_loss: 2.4513\n",
      "Epoch 185/270\n",
      "124/124 [==============================] - 18s 143ms/step - loss: 44.1669 - reconstruction_loss: 41.7269 - kl_loss: 2.4400\n",
      "Epoch 186/270\n",
      "124/124 [==============================] - 18s 143ms/step - loss: 35.2205 - reconstruction_loss: 32.7743 - kl_loss: 2.4462\n",
      "Epoch 187/270\n",
      "124/124 [==============================] - 18s 143ms/step - loss: 33.9505 - reconstruction_loss: 31.4917 - kl_loss: 2.4588\n",
      "Epoch 188/270\n",
      "124/124 [==============================] - 18s 143ms/step - loss: 33.6378 - reconstruction_loss: 31.1683 - kl_loss: 2.4694\n",
      "Epoch 189/270\n",
      "124/124 [==============================] - 18s 143ms/step - loss: 33.9560 - reconstruction_loss: 31.4796 - kl_loss: 2.4764\n",
      "Epoch 190/270\n",
      "124/124 [==============================] - 18s 144ms/step - loss: 34.7356 - reconstruction_loss: 32.2701 - kl_loss: 2.4655\n",
      "Epoch 191/270\n",
      "124/124 [==============================] - 18s 144ms/step - loss: 34.8793 - reconstruction_loss: 32.4103 - kl_loss: 2.4690\n",
      "Epoch 192/270\n",
      "124/124 [==============================] - 18s 144ms/step - loss: 35.0459 - reconstruction_loss: 32.5856 - kl_loss: 2.4603\n",
      "Epoch 193/270\n",
      "124/124 [==============================] - 18s 143ms/step - loss: 34.0620 - reconstruction_loss: 31.5915 - kl_loss: 2.4705\n",
      "Epoch 194/270\n",
      "124/124 [==============================] - 18s 144ms/step - loss: 36.2980 - reconstruction_loss: 33.8299 - kl_loss: 2.4681\n",
      "Epoch 195/270\n",
      "124/124 [==============================] - 18s 144ms/step - loss: 34.8967 - reconstruction_loss: 32.4272 - kl_loss: 2.4695\n",
      "Epoch 196/270\n",
      "124/124 [==============================] - 18s 143ms/step - loss: 35.0232 - reconstruction_loss: 32.5644 - kl_loss: 2.4588\n",
      "Epoch 197/270\n",
      "124/124 [==============================] - 18s 143ms/step - loss: 34.8011 - reconstruction_loss: 32.3265 - kl_loss: 2.4746\n",
      "Epoch 198/270\n",
      "124/124 [==============================] - 18s 144ms/step - loss: 36.1780 - reconstruction_loss: 33.7030 - kl_loss: 2.4750\n",
      "Epoch 199/270\n",
      "124/124 [==============================] - 18s 144ms/step - loss: 34.3484 - reconstruction_loss: 31.8767 - kl_loss: 2.4717\n",
      "Epoch 200/270\n",
      "124/124 [==============================] - 18s 144ms/step - loss: 33.9916 - reconstruction_loss: 31.5109 - kl_loss: 2.4807\n",
      "Epoch 201/270\n",
      "124/124 [==============================] - 18s 144ms/step - loss: 35.4694 - reconstruction_loss: 32.9934 - kl_loss: 2.4759\n",
      "Epoch 202/270\n",
      "124/124 [==============================] - 18s 144ms/step - loss: 34.0664 - reconstruction_loss: 31.5905 - kl_loss: 2.4759\n",
      "Epoch 203/270\n",
      "124/124 [==============================] - 18s 144ms/step - loss: 34.1682 - reconstruction_loss: 31.6922 - kl_loss: 2.4759\n",
      "Epoch 204/270\n",
      "124/124 [==============================] - 18s 143ms/step - loss: 33.3341 - reconstruction_loss: 30.8467 - kl_loss: 2.4873\n",
      "Epoch 205/270\n",
      "124/124 [==============================] - 18s 143ms/step - loss: 34.9591 - reconstruction_loss: 32.4775 - kl_loss: 2.4816\n",
      "Epoch 206/270\n",
      "124/124 [==============================] - 18s 144ms/step - loss: 33.5497 - reconstruction_loss: 31.0708 - kl_loss: 2.4790\n",
      "Epoch 207/270\n",
      "124/124 [==============================] - 18s 143ms/step - loss: 33.3329 - reconstruction_loss: 30.8424 - kl_loss: 2.4905\n",
      "Epoch 208/270\n",
      "124/124 [==============================] - 18s 143ms/step - loss: 34.8875 - reconstruction_loss: 32.4091 - kl_loss: 2.4784\n",
      "Epoch 209/270\n",
      "124/124 [==============================] - 18s 143ms/step - loss: 34.1479 - reconstruction_loss: 31.6659 - kl_loss: 2.4820\n",
      "Epoch 210/270\n",
      "124/124 [==============================] - 18s 144ms/step - loss: 34.9624 - reconstruction_loss: 32.4693 - kl_loss: 2.4931\n",
      "Epoch 211/270\n",
      "124/124 [==============================] - 18s 144ms/step - loss: 34.4124 - reconstruction_loss: 31.9276 - kl_loss: 2.4848\n",
      "Epoch 212/270\n",
      "124/124 [==============================] - 18s 144ms/step - loss: 33.0237 - reconstruction_loss: 30.5340 - kl_loss: 2.4897\n",
      "Epoch 213/270\n",
      "124/124 [==============================] - 18s 143ms/step - loss: 32.7436 - reconstruction_loss: 30.2402 - kl_loss: 2.5034\n",
      "Epoch 214/270\n",
      "124/124 [==============================] - 18s 144ms/step - loss: 33.6096 - reconstruction_loss: 31.1138 - kl_loss: 2.4958\n",
      "Epoch 215/270\n",
      "124/124 [==============================] - 18s 144ms/step - loss: 35.5520 - reconstruction_loss: 33.0608 - kl_loss: 2.4912\n",
      "Epoch 216/270\n",
      "124/124 [==============================] - 18s 144ms/step - loss: 34.4995 - reconstruction_loss: 32.0152 - kl_loss: 2.4843\n",
      "Epoch 217/270\n",
      "124/124 [==============================] - 18s 143ms/step - loss: 33.5021 - reconstruction_loss: 31.0122 - kl_loss: 2.4899\n",
      "Epoch 218/270\n",
      "124/124 [==============================] - 18s 144ms/step - loss: 33.8248 - reconstruction_loss: 31.3286 - kl_loss: 2.4962\n",
      "Epoch 219/270\n",
      "124/124 [==============================] - 18s 144ms/step - loss: 33.8296 - reconstruction_loss: 31.3326 - kl_loss: 2.4970\n",
      "Epoch 220/270\n",
      "124/124 [==============================] - 18s 144ms/step - loss: 34.6052 - reconstruction_loss: 32.1029 - kl_loss: 2.5023\n",
      "Epoch 221/270\n",
      "124/124 [==============================] - 18s 143ms/step - loss: 33.7669 - reconstruction_loss: 31.2728 - kl_loss: 2.4941\n",
      "Epoch 222/270\n",
      "124/124 [==============================] - 18s 144ms/step - loss: 33.0880 - reconstruction_loss: 30.5942 - kl_loss: 2.4937\n",
      "Epoch 223/270\n",
      "124/124 [==============================] - 18s 144ms/step - loss: 32.5443 - reconstruction_loss: 30.0468 - kl_loss: 2.4974\n",
      "Epoch 224/270\n",
      "124/124 [==============================] - 18s 143ms/step - loss: 32.5172 - reconstruction_loss: 30.0036 - kl_loss: 2.5136\n",
      "Epoch 225/270\n",
      "124/124 [==============================] - 18s 143ms/step - loss: 33.3154 - reconstruction_loss: 30.8150 - kl_loss: 2.5004\n",
      "Epoch 226/270\n",
      "124/124 [==============================] - 18s 143ms/step - loss: 33.8984 - reconstruction_loss: 31.3918 - kl_loss: 2.5066\n",
      "Epoch 227/270\n",
      "124/124 [==============================] - 18s 143ms/step - loss: 32.0507 - reconstruction_loss: 29.5427 - kl_loss: 2.5080\n",
      "Epoch 228/270\n",
      "124/124 [==============================] - 18s 143ms/step - loss: 32.2603 - reconstruction_loss: 29.7418 - kl_loss: 2.5185\n",
      "Epoch 229/270\n",
      "124/124 [==============================] - 18s 143ms/step - loss: 32.9380 - reconstruction_loss: 30.4213 - kl_loss: 2.5168\n",
      "Epoch 230/270\n",
      "124/124 [==============================] - 18s 143ms/step - loss: 33.3911 - reconstruction_loss: 30.8824 - kl_loss: 2.5087\n",
      "Epoch 231/270\n",
      "124/124 [==============================] - 18s 143ms/step - loss: 32.6589 - reconstruction_loss: 30.1517 - kl_loss: 2.5072\n",
      "Epoch 232/270\n",
      "124/124 [==============================] - 18s 143ms/step - loss: 32.2871 - reconstruction_loss: 29.7724 - kl_loss: 2.5147\n",
      "Epoch 233/270\n",
      "124/124 [==============================] - 18s 144ms/step - loss: 33.1099 - reconstruction_loss: 30.5910 - kl_loss: 2.5189\n",
      "Epoch 234/270\n",
      "124/124 [==============================] - 18s 143ms/step - loss: 33.1994 - reconstruction_loss: 30.6790 - kl_loss: 2.5204\n",
      "Epoch 235/270\n",
      "124/124 [==============================] - 18s 144ms/step - loss: 34.8205 - reconstruction_loss: 32.3126 - kl_loss: 2.5079\n",
      "Epoch 236/270\n",
      "124/124 [==============================] - 18s 143ms/step - loss: 32.3713 - reconstruction_loss: 29.8492 - kl_loss: 2.5221\n",
      "Epoch 237/270\n",
      "124/124 [==============================] - 18s 143ms/step - loss: 33.5337 - reconstruction_loss: 31.0234 - kl_loss: 2.5103\n",
      "Epoch 238/270\n",
      "124/124 [==============================] - 18s 143ms/step - loss: 32.9990 - reconstruction_loss: 30.4941 - kl_loss: 2.5049\n",
      "Epoch 239/270\n",
      "124/124 [==============================] - 18s 143ms/step - loss: 31.9953 - reconstruction_loss: 29.4725 - kl_loss: 2.5228\n",
      "Epoch 240/270\n",
      "124/124 [==============================] - 18s 143ms/step - loss: 32.9652 - reconstruction_loss: 30.4446 - kl_loss: 2.5206\n",
      "Epoch 241/270\n",
      "124/124 [==============================] - 18s 143ms/step - loss: 32.0644 - reconstruction_loss: 29.5354 - kl_loss: 2.5290\n",
      "Epoch 242/270\n",
      "124/124 [==============================] - 18s 143ms/step - loss: 32.1745 - reconstruction_loss: 29.6463 - kl_loss: 2.5282\n",
      "Epoch 243/270\n",
      "124/124 [==============================] - 18s 143ms/step - loss: 32.5977 - reconstruction_loss: 30.0795 - kl_loss: 2.5181\n",
      "Epoch 244/270\n",
      "124/124 [==============================] - 18s 143ms/step - loss: 31.2854 - reconstruction_loss: 28.7578 - kl_loss: 2.5276\n",
      "Epoch 245/270\n",
      "124/124 [==============================] - 18s 143ms/step - loss: 32.2947 - reconstruction_loss: 29.7587 - kl_loss: 2.5360\n",
      "Epoch 246/270\n",
      "124/124 [==============================] - 18s 143ms/step - loss: 33.0711 - reconstruction_loss: 30.5357 - kl_loss: 2.5354\n",
      "Epoch 247/270\n",
      "124/124 [==============================] - 18s 143ms/step - loss: 32.5397 - reconstruction_loss: 30.0174 - kl_loss: 2.5223\n",
      "Epoch 248/270\n",
      "124/124 [==============================] - 18s 143ms/step - loss: 32.3546 - reconstruction_loss: 29.8100 - kl_loss: 2.5446\n",
      "Epoch 249/270\n",
      "124/124 [==============================] - 18s 143ms/step - loss: 34.0532 - reconstruction_loss: 31.5338 - kl_loss: 2.5194\n",
      "Epoch 250/270\n",
      "124/124 [==============================] - 18s 143ms/step - loss: 32.9054 - reconstruction_loss: 30.3805 - kl_loss: 2.5249\n",
      "Epoch 251/270\n",
      "124/124 [==============================] - 18s 144ms/step - loss: 31.2511 - reconstruction_loss: 28.7202 - kl_loss: 2.5309\n",
      "Epoch 252/270\n",
      "124/124 [==============================] - 18s 143ms/step - loss: 31.2729 - reconstruction_loss: 28.7359 - kl_loss: 2.5371\n",
      "Epoch 253/270\n",
      "124/124 [==============================] - 18s 143ms/step - loss: 31.8762 - reconstruction_loss: 29.3367 - kl_loss: 2.5395\n",
      "Epoch 254/270\n",
      "124/124 [==============================] - 18s 143ms/step - loss: 32.1598 - reconstruction_loss: 29.6143 - kl_loss: 2.5455\n",
      "Epoch 255/270\n",
      "124/124 [==============================] - 18s 143ms/step - loss: 32.8201 - reconstruction_loss: 30.2938 - kl_loss: 2.5263\n",
      "Epoch 256/270\n",
      "124/124 [==============================] - 18s 143ms/step - loss: 31.2431 - reconstruction_loss: 28.7007 - kl_loss: 2.5424\n",
      "Epoch 257/270\n",
      "124/124 [==============================] - 18s 143ms/step - loss: 31.9277 - reconstruction_loss: 29.3844 - kl_loss: 2.5434\n",
      "Epoch 258/270\n",
      "124/124 [==============================] - 18s 143ms/step - loss: 32.1597 - reconstruction_loss: 29.6196 - kl_loss: 2.5401\n",
      "Epoch 259/270\n",
      "124/124 [==============================] - 18s 143ms/step - loss: 32.4965 - reconstruction_loss: 29.9565 - kl_loss: 2.5400\n",
      "Epoch 260/270\n",
      "124/124 [==============================] - 18s 143ms/step - loss: 31.8520 - reconstruction_loss: 29.3037 - kl_loss: 2.5484\n",
      "Epoch 261/270\n",
      "124/124 [==============================] - 18s 143ms/step - loss: 32.0092 - reconstruction_loss: 29.4699 - kl_loss: 2.5393\n",
      "Epoch 262/270\n",
      "124/124 [==============================] - 18s 143ms/step - loss: 32.3288 - reconstruction_loss: 29.7864 - kl_loss: 2.5424\n",
      "Epoch 263/270\n",
      "124/124 [==============================] - 18s 143ms/step - loss: 33.2405 - reconstruction_loss: 30.6978 - kl_loss: 2.5427\n",
      "Epoch 264/270\n",
      "124/124 [==============================] - 18s 143ms/step - loss: 31.8081 - reconstruction_loss: 29.2666 - kl_loss: 2.5416\n",
      "Epoch 265/270\n",
      "124/124 [==============================] - 18s 143ms/step - loss: 31.0331 - reconstruction_loss: 28.4882 - kl_loss: 2.5450\n",
      "Epoch 266/270\n",
      "124/124 [==============================] - 18s 144ms/step - loss: 30.5369 - reconstruction_loss: 27.9787 - kl_loss: 2.5582\n",
      "Epoch 267/270\n",
      "124/124 [==============================] - 18s 143ms/step - loss: 31.6851 - reconstruction_loss: 29.1332 - kl_loss: 2.5519\n",
      "Epoch 268/270\n",
      "124/124 [==============================] - 18s 144ms/step - loss: 31.3693 - reconstruction_loss: 28.8085 - kl_loss: 2.5608\n",
      "Epoch 269/270\n",
      "124/124 [==============================] - 18s 144ms/step - loss: 32.3414 - reconstruction_loss: 29.7850 - kl_loss: 2.5565\n",
      "Epoch 270/270\n",
      "124/124 [==============================] - 18s 143ms/step - loss: 31.5557 - reconstruction_loss: 29.0050 - kl_loss: 2.5506\n"
     ]
    },
    {
     "data": {
      "text/plain": [
       "<tensorflow.python.keras.callbacks.History at 0x7f307e14a320>"
      ]
     },
     "execution_count": 10,
     "metadata": {
      "tags": []
     },
     "output_type": "execute_result"
    }
   ],
   "source": [
    "vae.fit(images, epochs=270, batch_size=128)"
   ]
  },
  {
   "cell_type": "code",
   "execution_count": null,
   "metadata": {
    "id": "6ht-Ww6KkIds"
   },
   "outputs": [],
   "source": [
    "encoder.save('/content/drive/My Drive/Models/cats_enc300.h5')\n",
    "decoder.save('/content/drive/My Drive/Models/cats_dec300.h5')"
   ]
  },
  {
   "cell_type": "code",
   "execution_count": null,
   "metadata": {
    "colab": {
     "base_uri": "https://localhost:8080/",
     "height": 285
    },
    "id": "9u24puUskLH8",
    "outputId": "d482bda7-92e5-4095-b59b-0bc08fa8db2d"
   },
   "outputs": [
    {
     "data": {
      "text/plain": [
       "<matplotlib.image.AxesImage at 0x7f2e372edbe0>"
      ]
     },
     "execution_count": 17,
     "metadata": {
      "tags": []
     },
     "output_type": "execute_result"
    },
    {
     "data": {
      "image/png": "[encoded data removed]",
      "text/plain": [
       "<Figure size 432x288 with 1 Axes>"
      ]
     },
     "metadata": {
      "needs_background": "light",
      "tags": []
     },
     "output_type": "display_data"
    }
   ],
   "source": [
    "b = encoder.predict(images[100].reshape(1, 64, 64, 3))\n",
    "c = decoder.predict(b)\n",
    "plt.imshow(c.reshape(64, 64, 3))"
   ]
  },
  {
   "cell_type": "code",
   "execution_count": null,
   "metadata": {
    "colab": {
     "base_uri": "https://localhost:8080/",
     "height": 285
    },
    "id": "KXege0Ai6Nwj",
    "outputId": "9b6f66c7-3ff2-4a19-b27a-0d9bd41a5472"
   },
   "outputs": [
    {
     "data": {
      "text/plain": [
       "<matplotlib.image.AxesImage at 0x7f2e373864e0>"
      ]
     },
     "execution_count": 18,
     "metadata": {
      "tags": []
     },
     "output_type": "execute_result"
    },
    {
     "data": {
      "image/png": "[encoded data removed]",
      "text/plain": [
       "<Figure size 432x288 with 1 Axes>"
      ]
     },
     "metadata": {
      "needs_background": "light",
      "tags": []
     },
     "output_type": "display_data"
    }
   ],
   "source": [
    "plt.imshow(images[100])"
   ]
  },
  {
   "cell_type": "code",
   "execution_count": null,
   "metadata": {
    "colab": {
     "base_uri": "https://localhost:8080/",
     "height": 285
    },
    "id": "v-_8aoom6Q_V",
    "outputId": "b2d9d78a-5166-4d09-af0c-4e2d18c4ec2e"
   },
   "outputs": [
    {
     "data": {
      "text/plain": [
       "<matplotlib.image.AxesImage at 0x7f2e3722fcc0>"
      ]
     },
     "execution_count": 19,
     "metadata": {
      "tags": []
     },
     "output_type": "execute_result"
    },
    {
     "data": {
      "image/png": "[encoded data removed]",
      "text/plain": [
       "<Figure size 432x288 with 1 Axes>"
      ]
     },
     "metadata": {
      "needs_background": "light",
      "tags": []
     },
     "output_type": "display_data"
    }
   ],
   "source": [
    "b = encoder.predict(images[2016].reshape(1, 64, 64, 3))\n",
    "c = decoder.predict(b)\n",
    "plt.imshow(c.reshape(64, 64, 3))"
   ]
  },
  {
   "cell_type": "code",
   "execution_count": null,
   "metadata": {
    "colab": {
     "base_uri": "https://localhost:8080/",
     "height": 285
    },
    "id": "0nQSpRO86TWl",
    "outputId": "a4f74bb4-efc4-4b57-f1b3-79f47863e892"
   },
   "outputs": [
    {
     "data": {
      "text/plain": [
       "<matplotlib.image.AxesImage at 0x7f2e3727ce48>"
      ]
     },
     "execution_count": 20,
     "metadata": {
      "tags": []
     },
     "output_type": "execute_result"
    },
    {
     "data": {
      "image/png": "[encoded data removed]",
      "text/plain": [
       "<Figure size 432x288 with 1 Axes>"
      ]
     },
     "metadata": {
      "needs_background": "light",
      "tags": []
     },
     "output_type": "display_data"
    }
   ],
   "source": [
    "plt.imshow(images[2016])"
   ]
  },
  {
   "cell_type": "code",
   "execution_count": null,
   "metadata": {
    "colab": {
     "base_uri": "https://localhost:8080/",
     "height": 285
    },
    "id": "2r-2AzHI6vAl",
    "outputId": "1f918e48-f4e0-45d4-c6b2-d5e68c66054b"
   },
   "outputs": [
    {
     "data": {
      "text/plain": [
       "<matplotlib.image.AxesImage at 0x7f2e370bdef0>"
      ]
     },
     "execution_count": 23,
     "metadata": {
      "tags": []
     },
     "output_type": "execute_result"
    },
    {
     "data": {
      "image/png": "[encoded data removed]",
      "text/plain": [
       "<Figure size 432x288 with 1 Axes>"
      ]
     },
     "metadata": {
      "needs_background": "light",
      "tags": []
     },
     "output_type": "display_data"
    }
   ],
   "source": [
    "b = encoder.predict(images[2020].reshape(1, 64, 64, 3))\n",
    "c = decoder.predict(b)\n",
    "plt.imshow(c.reshape(64, 64, 3))"
   ]
  },
  {
   "cell_type": "code",
   "execution_count": null,
   "metadata": {
    "colab": {
     "base_uri": "https://localhost:8080/",
     "height": 285
    },
    "id": "5MrTMVf36aML",
    "outputId": "d4c9045e-1ec4-40a0-f276-1287209d3c47"
   },
   "outputs": [
    {
     "data": {
      "text/plain": [
       "<matplotlib.image.AxesImage at 0x7f2e371b5400>"
      ]
     },
     "execution_count": 21,
     "metadata": {
      "tags": []
     },
     "output_type": "execute_result"
    },
    {
     "data": {
      "image/png": "[encoded data removed]",
      "text/plain": [
       "<Figure size 432x288 with 1 Axes>"
      ]
     },
     "metadata": {
      "needs_background": "light",
      "tags": []
     },
     "output_type": "display_data"
    }
   ],
   "source": [
    "plt.imshow(images[2020])"
   ]
  }
 ],
 "metadata": {
  "accelerator": "GPU",
  "colab": {
   "collapsed_sections": [],
   "machine_shape": "hm",
   "name": "CatsVAE",
   "provenance": []
  },
  "kernelspec": {
   "display_name": "Python 3",
   "language": "python",
   "name": "python3"
  },
  "language_info": {
   "codemirror_mode": {
    "name": "ipython",
    "version": 3
   },
   "file_extension": ".py",
   "mimetype": "text/x-python",
   "name": "python",
   "nbconvert_exporter": "python",
   "pygments_lexer": "ipython3",
   "version": "3.7.7"
  }
 },
 "nbformat": 4,
 "nbformat_minor": 1
}
